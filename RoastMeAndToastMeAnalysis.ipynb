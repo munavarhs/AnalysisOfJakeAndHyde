{
  "nbformat": 4,
  "nbformat_minor": 0,
  "metadata": {
    "colab": {
      "provenance": [],
      "machine_shape": "hm",
      "gpuType": "A100",
      "authorship_tag": "ABX9TyOTwR/6til9ZB4eoB8msKwf",
      "include_colab_link": true
    },
    "kernelspec": {
      "name": "python3",
      "display_name": "Python 3"
    },
    "language_info": {
      "name": "python"
    },
    "accelerator": "GPU"
  },
  "cells": [
    {
      "cell_type": "markdown",
      "metadata": {
        "id": "view-in-github",
        "colab_type": "text"
      },
      "source": [
        "<a href=\"https://colab.research.google.com/github/munavarhs/AnalysisOfJakeAndHyde/blob/main/RoastMeAndToastMeAnalysis.ipynb\" target=\"_parent\"><img src=\"https://colab.research.google.com/assets/colab-badge.svg\" alt=\"Open In Colab\"/></a>"
      ]
    },
    {
      "cell_type": "code",
      "execution_count": 1,
      "metadata": {
        "id": "PEgXT6tSQgaw"
      },
      "outputs": [],
      "source": [
        "import pandas as pd\n",
        "import numpy as np\n",
        "import nltk\n",
        "from nltk.corpus import stopwords\n",
        "from nltk.stem import WordNetLemmatizer\n",
        "\n",
        "from sklearn.feature_extraction.text import TfidfVectorizer, CountVectorizer\n",
        "from sklearn.model_selection import train_test_split\n",
        "from sklearn.naive_bayes import MultinomialNB\n",
        "from sklearn.linear_model import LogisticRegression\n",
        "from sklearn.tree import DecisionTreeClassifier\n",
        "from sklearn.svm import SVC\n",
        "from sklearn.metrics import classification_report\n",
        "import gensim.downloader as api\n",
        "from sklearn.preprocessing import MinMaxScaler\n",
        "import warnings\n",
        "warnings.filterwarnings('ignore')\n"
      ]
    },
    {
      "cell_type": "code",
      "source": [
        "nltk.download('stopwords')\n",
        "nltk.download('wordnet')\n",
        "nltk.download('omw-1.4')"
      ],
      "metadata": {
        "colab": {
          "base_uri": "https://localhost:8080/"
        },
        "id": "IgBuDeK8UDbh",
        "outputId": "be3d4c08-4e2c-4630-d46a-1e22ee0a1389"
      },
      "execution_count": 2,
      "outputs": [
        {
          "output_type": "stream",
          "name": "stderr",
          "text": [
            "[nltk_data] Downloading package stopwords to /root/nltk_data...\n",
            "[nltk_data]   Unzipping corpora/stopwords.zip.\n",
            "[nltk_data] Downloading package wordnet to /root/nltk_data...\n",
            "[nltk_data] Downloading package omw-1.4 to /root/nltk_data...\n"
          ]
        },
        {
          "output_type": "execute_result",
          "data": {
            "text/plain": [
              "True"
            ]
          },
          "metadata": {},
          "execution_count": 2
        }
      ]
    },
    {
      "cell_type": "code",
      "source": [
        "toastme_data = pd.read_csv('ToastMe.csv', sep=None, engine='python', on_bad_lines='warn')\n",
        "roastme_data = pd.read_csv('RoastMe.csv',  sep=None, engine='python', on_bad_lines='warn')"
      ],
      "metadata": {
        "id": "E7_0xNa9Qrdn"
      },
      "execution_count": 4,
      "outputs": []
    },
    {
      "cell_type": "code",
      "source": [
        "#Combining the data\n",
        "data = pd.concat([toastme_data, roastme_data])\n"
      ],
      "metadata": {
        "id": "2OmXRj-RQrgB"
      },
      "execution_count": 5,
      "outputs": []
    },
    {
      "cell_type": "code",
      "source": [
        "#Text Preprocessing\n",
        "# Removing the rows with missing comments\n",
        "data = data.dropna(subset=['Comment'])"
      ],
      "metadata": {
        "id": "1P0om9gvQrii"
      },
      "execution_count": 6,
      "outputs": []
    },
    {
      "cell_type": "code",
      "source": [
        "# Converting the text to lowercase and strip whitespaces\n",
        "data['Processed_Comment'] = data['Comment'].str.lower().str.strip()\n",
        "# Removing punctuations, spaces and special characters\n",
        "data['Processed_Comment'] = data['Processed_Comment'].str.replace(r'[^\\w\\s]', '', regex=True)\n"
      ],
      "metadata": {
        "id": "muTfvMj6QrlD"
      },
      "execution_count": 7,
      "outputs": []
    },
    {
      "cell_type": "code",
      "source": [
        "# Initialize stopwords and lemmatizer\n",
        "stop_words = set(stopwords.words('english'))\n",
        "lemmatizer = WordNetLemmatizer()"
      ],
      "metadata": {
        "id": "GS3foEz6QrnP"
      },
      "execution_count": 8,
      "outputs": []
    },
    {
      "cell_type": "code",
      "source": [
        "# Removing Stopwords\n",
        "def remove_stopwords(text):\n",
        "    tokens = text.split()\n",
        "    filtered_tokens = [word for word in tokens if word not in stop_words]\n",
        "    return ' '.join(filtered_tokens)\n"
      ],
      "metadata": {
        "id": "9T9vencvUPUR"
      },
      "execution_count": 9,
      "outputs": []
    },
    {
      "cell_type": "code",
      "source": [
        "# Using the above function to remove Stopwords on comments\n",
        "data['Processed_Comment'] = data['Processed_Comment'].apply(remove_stopwords)"
      ],
      "metadata": {
        "id": "5bBkggN1UPSX"
      },
      "execution_count": 10,
      "outputs": []
    },
    {
      "cell_type": "code",
      "source": [
        "# Lemmatization\n",
        "def lemmatize_text(text):\n",
        "    tokens = text.split()\n",
        "    lemmatized_tokens = [lemmatizer.lemmatize(word) for word in tokens]\n",
        "    return ' '.join(lemmatized_tokens)\n"
      ],
      "metadata": {
        "id": "04MJKOh1UPPz"
      },
      "execution_count": 11,
      "outputs": []
    },
    {
      "cell_type": "code",
      "source": [
        "# Using the above function on comments for further preprocessing\n",
        "data['Processed_Comment'] = data['Processed_Comment'].apply(lemmatize_text)"
      ],
      "metadata": {
        "id": "OvVaMY78UPM2"
      },
      "execution_count": 12,
      "outputs": []
    },
    {
      "cell_type": "code",
      "source": [
        "# Display the first few rows of the processed data\n",
        "data[['Comment', 'Processed_Comment']].head()"
      ],
      "metadata": {
        "colab": {
          "base_uri": "https://localhost:8080/",
          "height": 206
        },
        "id": "ztExJZgqU2kS",
        "outputId": "ae9bab92-c9ef-4861-d090-d69c45142980"
      },
      "execution_count": 13,
      "outputs": [
        {
          "output_type": "execute_result",
          "data": {
            "text/plain": [
              "                                             Comment  \\\n",
              "0  Duuuude, yes!  Super boss.  Alright, now for t...   \n",
              "1  Good looking dude who seems genuinely nice. Ju...   \n",
              "2  Here's to a girl that is willing to take chanc...   \n",
              "3  This is an awesome idea! I'm surprised no one ...   \n",
              "4  Dude, you're so beautiful!  I love your hair a...   \n",
              "\n",
              "                                   Processed_Comment  \n",
              "0  duuuude yes super bos alright realness think l...  \n",
              "1  good looking dude seems genuinely nice judging...  \n",
              "2                here girl willing take chance cheer  \n",
              "3  awesome idea im surprised one thought edit oh ...  \n",
              "4  dude youre beautiful love hair smile would loo...  "
            ],
            "text/html": [
              "\n",
              "  <div id=\"df-45122714-4a24-4e6e-bb5c-5440b8e25f49\" class=\"colab-df-container\">\n",
              "    <div>\n",
              "<style scoped>\n",
              "    .dataframe tbody tr th:only-of-type {\n",
              "        vertical-align: middle;\n",
              "    }\n",
              "\n",
              "    .dataframe tbody tr th {\n",
              "        vertical-align: top;\n",
              "    }\n",
              "\n",
              "    .dataframe thead th {\n",
              "        text-align: right;\n",
              "    }\n",
              "</style>\n",
              "<table border=\"1\" class=\"dataframe\">\n",
              "  <thead>\n",
              "    <tr style=\"text-align: right;\">\n",
              "      <th></th>\n",
              "      <th>Comment</th>\n",
              "      <th>Processed_Comment</th>\n",
              "    </tr>\n",
              "  </thead>\n",
              "  <tbody>\n",
              "    <tr>\n",
              "      <th>0</th>\n",
              "      <td>Duuuude, yes!  Super boss.  Alright, now for t...</td>\n",
              "      <td>duuuude yes super bos alright realness think l...</td>\n",
              "    </tr>\n",
              "    <tr>\n",
              "      <th>1</th>\n",
              "      <td>Good looking dude who seems genuinely nice. Ju...</td>\n",
              "      <td>good looking dude seems genuinely nice judging...</td>\n",
              "    </tr>\n",
              "    <tr>\n",
              "      <th>2</th>\n",
              "      <td>Here's to a girl that is willing to take chanc...</td>\n",
              "      <td>here girl willing take chance cheer</td>\n",
              "    </tr>\n",
              "    <tr>\n",
              "      <th>3</th>\n",
              "      <td>This is an awesome idea! I'm surprised no one ...</td>\n",
              "      <td>awesome idea im surprised one thought edit oh ...</td>\n",
              "    </tr>\n",
              "    <tr>\n",
              "      <th>4</th>\n",
              "      <td>Dude, you're so beautiful!  I love your hair a...</td>\n",
              "      <td>dude youre beautiful love hair smile would loo...</td>\n",
              "    </tr>\n",
              "  </tbody>\n",
              "</table>\n",
              "</div>\n",
              "    <div class=\"colab-df-buttons\">\n",
              "\n",
              "  <div class=\"colab-df-container\">\n",
              "    <button class=\"colab-df-convert\" onclick=\"convertToInteractive('df-45122714-4a24-4e6e-bb5c-5440b8e25f49')\"\n",
              "            title=\"Convert this dataframe to an interactive table.\"\n",
              "            style=\"display:none;\">\n",
              "\n",
              "  <svg xmlns=\"http://www.w3.org/2000/svg\" height=\"24px\" viewBox=\"0 -960 960 960\">\n",
              "    <path d=\"M120-120v-720h720v720H120Zm60-500h600v-160H180v160Zm220 220h160v-160H400v160Zm0 220h160v-160H400v160ZM180-400h160v-160H180v160Zm440 0h160v-160H620v160ZM180-180h160v-160H180v160Zm440 0h160v-160H620v160Z\"/>\n",
              "  </svg>\n",
              "    </button>\n",
              "\n",
              "  <style>\n",
              "    .colab-df-container {\n",
              "      display:flex;\n",
              "      gap: 12px;\n",
              "    }\n",
              "\n",
              "    .colab-df-convert {\n",
              "      background-color: #E8F0FE;\n",
              "      border: none;\n",
              "      border-radius: 50%;\n",
              "      cursor: pointer;\n",
              "      display: none;\n",
              "      fill: #1967D2;\n",
              "      height: 32px;\n",
              "      padding: 0 0 0 0;\n",
              "      width: 32px;\n",
              "    }\n",
              "\n",
              "    .colab-df-convert:hover {\n",
              "      background-color: #E2EBFA;\n",
              "      box-shadow: 0px 1px 2px rgba(60, 64, 67, 0.3), 0px 1px 3px 1px rgba(60, 64, 67, 0.15);\n",
              "      fill: #174EA6;\n",
              "    }\n",
              "\n",
              "    .colab-df-buttons div {\n",
              "      margin-bottom: 4px;\n",
              "    }\n",
              "\n",
              "    [theme=dark] .colab-df-convert {\n",
              "      background-color: #3B4455;\n",
              "      fill: #D2E3FC;\n",
              "    }\n",
              "\n",
              "    [theme=dark] .colab-df-convert:hover {\n",
              "      background-color: #434B5C;\n",
              "      box-shadow: 0px 1px 3px 1px rgba(0, 0, 0, 0.15);\n",
              "      filter: drop-shadow(0px 1px 2px rgba(0, 0, 0, 0.3));\n",
              "      fill: #FFFFFF;\n",
              "    }\n",
              "  </style>\n",
              "\n",
              "    <script>\n",
              "      const buttonEl =\n",
              "        document.querySelector('#df-45122714-4a24-4e6e-bb5c-5440b8e25f49 button.colab-df-convert');\n",
              "      buttonEl.style.display =\n",
              "        google.colab.kernel.accessAllowed ? 'block' : 'none';\n",
              "\n",
              "      async function convertToInteractive(key) {\n",
              "        const element = document.querySelector('#df-45122714-4a24-4e6e-bb5c-5440b8e25f49');\n",
              "        const dataTable =\n",
              "          await google.colab.kernel.invokeFunction('convertToInteractive',\n",
              "                                                    [key], {});\n",
              "        if (!dataTable) return;\n",
              "\n",
              "        const docLinkHtml = 'Like what you see? Visit the ' +\n",
              "          '<a target=\"_blank\" href=https://colab.research.google.com/notebooks/data_table.ipynb>data table notebook</a>'\n",
              "          + ' to learn more about interactive tables.';\n",
              "        element.innerHTML = '';\n",
              "        dataTable['output_type'] = 'display_data';\n",
              "        await google.colab.output.renderOutput(dataTable, element);\n",
              "        const docLink = document.createElement('div');\n",
              "        docLink.innerHTML = docLinkHtml;\n",
              "        element.appendChild(docLink);\n",
              "      }\n",
              "    </script>\n",
              "  </div>\n",
              "\n",
              "\n",
              "<div id=\"df-80c1a5b6-a61e-4fa6-8e45-13336a045428\">\n",
              "  <button class=\"colab-df-quickchart\" onclick=\"quickchart('df-80c1a5b6-a61e-4fa6-8e45-13336a045428')\"\n",
              "            title=\"Suggest charts\"\n",
              "            style=\"display:none;\">\n",
              "\n",
              "<svg xmlns=\"http://www.w3.org/2000/svg\" height=\"24px\"viewBox=\"0 0 24 24\"\n",
              "     width=\"24px\">\n",
              "    <g>\n",
              "        <path d=\"M19 3H5c-1.1 0-2 .9-2 2v14c0 1.1.9 2 2 2h14c1.1 0 2-.9 2-2V5c0-1.1-.9-2-2-2zM9 17H7v-7h2v7zm4 0h-2V7h2v10zm4 0h-2v-4h2v4z\"/>\n",
              "    </g>\n",
              "</svg>\n",
              "  </button>\n",
              "\n",
              "<style>\n",
              "  .colab-df-quickchart {\n",
              "      --bg-color: #E8F0FE;\n",
              "      --fill-color: #1967D2;\n",
              "      --hover-bg-color: #E2EBFA;\n",
              "      --hover-fill-color: #174EA6;\n",
              "      --disabled-fill-color: #AAA;\n",
              "      --disabled-bg-color: #DDD;\n",
              "  }\n",
              "\n",
              "  [theme=dark] .colab-df-quickchart {\n",
              "      --bg-color: #3B4455;\n",
              "      --fill-color: #D2E3FC;\n",
              "      --hover-bg-color: #434B5C;\n",
              "      --hover-fill-color: #FFFFFF;\n",
              "      --disabled-bg-color: #3B4455;\n",
              "      --disabled-fill-color: #666;\n",
              "  }\n",
              "\n",
              "  .colab-df-quickchart {\n",
              "    background-color: var(--bg-color);\n",
              "    border: none;\n",
              "    border-radius: 50%;\n",
              "    cursor: pointer;\n",
              "    display: none;\n",
              "    fill: var(--fill-color);\n",
              "    height: 32px;\n",
              "    padding: 0;\n",
              "    width: 32px;\n",
              "  }\n",
              "\n",
              "  .colab-df-quickchart:hover {\n",
              "    background-color: var(--hover-bg-color);\n",
              "    box-shadow: 0 1px 2px rgba(60, 64, 67, 0.3), 0 1px 3px 1px rgba(60, 64, 67, 0.15);\n",
              "    fill: var(--button-hover-fill-color);\n",
              "  }\n",
              "\n",
              "  .colab-df-quickchart-complete:disabled,\n",
              "  .colab-df-quickchart-complete:disabled:hover {\n",
              "    background-color: var(--disabled-bg-color);\n",
              "    fill: var(--disabled-fill-color);\n",
              "    box-shadow: none;\n",
              "  }\n",
              "\n",
              "  .colab-df-spinner {\n",
              "    border: 2px solid var(--fill-color);\n",
              "    border-color: transparent;\n",
              "    border-bottom-color: var(--fill-color);\n",
              "    animation:\n",
              "      spin 1s steps(1) infinite;\n",
              "  }\n",
              "\n",
              "  @keyframes spin {\n",
              "    0% {\n",
              "      border-color: transparent;\n",
              "      border-bottom-color: var(--fill-color);\n",
              "      border-left-color: var(--fill-color);\n",
              "    }\n",
              "    20% {\n",
              "      border-color: transparent;\n",
              "      border-left-color: var(--fill-color);\n",
              "      border-top-color: var(--fill-color);\n",
              "    }\n",
              "    30% {\n",
              "      border-color: transparent;\n",
              "      border-left-color: var(--fill-color);\n",
              "      border-top-color: var(--fill-color);\n",
              "      border-right-color: var(--fill-color);\n",
              "    }\n",
              "    40% {\n",
              "      border-color: transparent;\n",
              "      border-right-color: var(--fill-color);\n",
              "      border-top-color: var(--fill-color);\n",
              "    }\n",
              "    60% {\n",
              "      border-color: transparent;\n",
              "      border-right-color: var(--fill-color);\n",
              "    }\n",
              "    80% {\n",
              "      border-color: transparent;\n",
              "      border-right-color: var(--fill-color);\n",
              "      border-bottom-color: var(--fill-color);\n",
              "    }\n",
              "    90% {\n",
              "      border-color: transparent;\n",
              "      border-bottom-color: var(--fill-color);\n",
              "    }\n",
              "  }\n",
              "</style>\n",
              "\n",
              "  <script>\n",
              "    async function quickchart(key) {\n",
              "      const quickchartButtonEl =\n",
              "        document.querySelector('#' + key + ' button');\n",
              "      quickchartButtonEl.disabled = true;  // To prevent multiple clicks.\n",
              "      quickchartButtonEl.classList.add('colab-df-spinner');\n",
              "      try {\n",
              "        const charts = await google.colab.kernel.invokeFunction(\n",
              "            'suggestCharts', [key], {});\n",
              "      } catch (error) {\n",
              "        console.error('Error during call to suggestCharts:', error);\n",
              "      }\n",
              "      quickchartButtonEl.classList.remove('colab-df-spinner');\n",
              "      quickchartButtonEl.classList.add('colab-df-quickchart-complete');\n",
              "    }\n",
              "    (() => {\n",
              "      let quickchartButtonEl =\n",
              "        document.querySelector('#df-80c1a5b6-a61e-4fa6-8e45-13336a045428 button');\n",
              "      quickchartButtonEl.style.display =\n",
              "        google.colab.kernel.accessAllowed ? 'block' : 'none';\n",
              "    })();\n",
              "  </script>\n",
              "</div>\n",
              "\n",
              "    </div>\n",
              "  </div>\n"
            ],
            "application/vnd.google.colaboratory.intrinsic+json": {
              "type": "dataframe",
              "summary": "{\n  \"name\": \"data[['Comment', 'Processed_Comment']]\",\n  \"rows\": 5,\n  \"fields\": [\n    {\n      \"column\": \"Comment\",\n      \"properties\": {\n        \"dtype\": \"string\",\n        \"num_unique_values\": 5,\n        \"samples\": [\n          \"Good looking dude who seems genuinely nice. Judging from the pictures I get the impression you are not self-absorbed and you're probably great at making people feel welcome if they are new to a group or location.\\n\\nAlso congratulations on being the first Toastee!\\n\\nHere here! \",\n          \"Dude, you're so beautiful!  I love your hair and your smile, and you would look frikkin' awesome in absolutely any color or style of dress.  You also seem like you know how to work hard and have fun doing it, which I think can only arise for someone who has a really solid grounding in play and fun.\\n\\nI also read some of your comments and was compelled to say how astonishingly intelligent you clearly are.  But more than that you're unapologetic and open, which takes tremendous courage.\\n\\nThank you.\",\n          \"Here's to a girl that is willing to take chances.  \\nCheers!\"\n        ],\n        \"semantic_type\": \"\",\n        \"description\": \"\"\n      }\n    },\n    {\n      \"column\": \"Processed_Comment\",\n      \"properties\": {\n        \"dtype\": \"string\",\n        \"num_unique_values\": 5,\n        \"samples\": [\n          \"good looking dude seems genuinely nice judging picture get impression selfabsorbed youre probably great making people feel welcome new group location also congratulation first toastee\",\n          \"dude youre beautiful love hair smile would look frikkin awesome absolutely color style dress also seem like know work hard fun think arise someone really solid grounding play fun also read comment compelled say astonishingly intelligent clearly youre unapologetic open take tremendous courage thank\",\n          \"here girl willing take chance cheer\"\n        ],\n        \"semantic_type\": \"\",\n        \"description\": \"\"\n      }\n    }\n  ]\n}"
            }
          },
          "metadata": {},
          "execution_count": 13
        }
      ]
    },
    {
      "cell_type": "code",
      "source": [
        "# Encoding target labels: 0 for ToastMe, 1 for RoastMe\n",
        "y = data['Subreddit'].apply(lambda x: 1 if x == 'RoastMe' else 0)"
      ],
      "metadata": {
        "id": "5uX0j99mU2iK"
      },
      "execution_count": 14,
      "outputs": []
    },
    {
      "cell_type": "code",
      "source": [
        "X_train, X_test, y_train, y_test = train_test_split(data['Comment'], data['Subreddit'], test_size=0.2, random_state=56)\n"
      ],
      "metadata": {
        "id": "bSc5V4RIXA85"
      },
      "execution_count": 15,
      "outputs": []
    },
    {
      "cell_type": "code",
      "source": [
        "#Performing feature Representations using TF-IDF, Count Vectorization and Glove Models\n",
        "\n",
        "#1. TF-IDF Vectorization\n",
        "tfidf_vectorizer = TfidfVectorizer(max_features=1000, stop_words='english')\n",
        "X_train_tfidf = tfidf_vectorizer.fit_transform(X_train)\n",
        "X_test_tfidf = tfidf_vectorizer.transform(X_test)"
      ],
      "metadata": {
        "id": "ojOkYUjnU2fZ"
      },
      "execution_count": 16,
      "outputs": []
    },
    {
      "cell_type": "code",
      "source": [
        "# 2. Count Vectorization\n",
        "count_vectorizer = CountVectorizer(max_features=1000, stop_words='english')\n",
        "X_train_count = count_vectorizer.fit_transform(X_train)\n",
        "X_test_count = count_vectorizer.transform(X_test)"
      ],
      "metadata": {
        "id": "jd3UgsVtXI_r"
      },
      "execution_count": 17,
      "outputs": []
    },
    {
      "cell_type": "code",
      "source": [
        "# 3. Word2Vec/GloVe Embeddings\n",
        "# Loading GloVe pre-trained embeddings\n",
        "glove_model = api.load(\"glove-wiki-gigaword-50\")"
      ],
      "metadata": {
        "colab": {
          "base_uri": "https://localhost:8080/"
        },
        "id": "ulOPs9NaXI9g",
        "outputId": "4a11f07c-b583-48d1-953c-651dcf7aaed7"
      },
      "execution_count": 18,
      "outputs": [
        {
          "output_type": "stream",
          "name": "stdout",
          "text": [
            "[==================================================] 100.0% 66.0/66.0MB downloaded\n"
          ]
        }
      ]
    },
    {
      "cell_type": "code",
      "source": [
        "def get_average_word2vec(sentence, model, vector_size):\n",
        "    words = sentence.split()\n",
        "    feature_vec = np.zeros((vector_size,), dtype=\"float32\")\n",
        "    num_words = 0\n",
        "    for word in words:\n",
        "        if word in model.key_to_index:\n",
        "            num_words += 1\n",
        "            feature_vec = np.add(feature_vec, model[word])\n",
        "    if num_words > 0:\n",
        "        feature_vec = np.divide(feature_vec, num_words)\n",
        "    return feature_vec\n"
      ],
      "metadata": {
        "id": "b0EwTV9iXI7A"
      },
      "execution_count": 19,
      "outputs": []
    },
    {
      "cell_type": "code",
      "source": [
        "X_train_glove = np.array([get_average_word2vec(sent, glove_model, 50) for sent in X_train])\n",
        "X_test_glove = np.array([get_average_word2vec(sent, glove_model, 50) for sent in X_test])"
      ],
      "metadata": {
        "id": "sDyd0-ixXIpg"
      },
      "execution_count": 20,
      "outputs": []
    },
    {
      "cell_type": "code",
      "source": [
        "# Standardizing embeddings for models like SVM\n",
        "scaler = MinMaxScaler()\n",
        "X_train_glove_scaled = scaler.fit_transform(X_train_glove)\n",
        "X_test_glove_scaled = scaler.transform(X_test_glove)"
      ],
      "metadata": {
        "id": "VeG9SAWgXqkW"
      },
      "execution_count": 21,
      "outputs": []
    },
    {
      "cell_type": "code",
      "source": [
        "### Model Training and Evaluation ###"
      ],
      "metadata": {
        "id": "KXT5mASZXqh0"
      },
      "execution_count": 22,
      "outputs": []
    },
    {
      "cell_type": "code",
      "source": [
        "# Initializing all the mentioned models\n",
        "models = {\n",
        "    'Logistic Regression': LogisticRegression(),\n",
        "    'Naive Bayes': MultinomialNB(),\n",
        "    'Decision Tree': DecisionTreeClassifier(),\n",
        "    'SVM': SVC(kernel='linear')\n",
        "}"
      ],
      "metadata": {
        "id": "CeRGDtfQXqe2"
      },
      "execution_count": 23,
      "outputs": []
    },
    {
      "cell_type": "code",
      "source": [
        "# Train and evaluate models using TF-IDF\n",
        "print(\"### TF-IDF Results ###\")\n",
        "for model_name, model in models.items():\n",
        "    model.fit(X_train_tfidf, y_train)\n",
        "    y_pred = model.predict(X_test_tfidf)\n",
        "    print(f\"{model_name}:\\n\", classification_report(y_test, y_pred))\n"
      ],
      "metadata": {
        "colab": {
          "base_uri": "https://localhost:8080/"
        },
        "id": "SIYtFkLXX5hE",
        "outputId": "cc0e4800-3b5a-49c0-99bf-4e828480a8e2"
      },
      "execution_count": 36,
      "outputs": [
        {
          "output_type": "stream",
          "name": "stdout",
          "text": [
            "### TF-IDF Results ###\n",
            "Logistic Regression:\n",
            "               precision    recall  f1-score   support\n",
            "\n",
            "     RoastMe       0.96      0.99      0.97     60259\n",
            "     toastme       0.90      0.72      0.80      9762\n",
            "\n",
            "    accuracy                           0.95     70021\n",
            "   macro avg       0.93      0.85      0.89     70021\n",
            "weighted avg       0.95      0.95      0.95     70021\n",
            "\n",
            "Naive Bayes:\n",
            "               precision    recall  f1-score   support\n",
            "\n",
            "     RoastMe       0.93      0.99      0.96     60259\n",
            "     toastme       0.92      0.55      0.69      9762\n",
            "\n",
            "    accuracy                           0.93     70021\n",
            "   macro avg       0.93      0.77      0.82     70021\n",
            "weighted avg       0.93      0.93      0.92     70021\n",
            "\n",
            "Decision Tree:\n",
            "               precision    recall  f1-score   support\n",
            "\n",
            "     RoastMe       0.95      0.96      0.96     60259\n",
            "     toastme       0.75      0.67      0.71      9762\n",
            "\n",
            "    accuracy                           0.92     70021\n",
            "   macro avg       0.85      0.82      0.83     70021\n",
            "weighted avg       0.92      0.92      0.92     70021\n",
            "\n",
            "SVM:\n",
            "               precision    recall  f1-score   support\n",
            "\n",
            "     RoastMe       0.96      0.99      0.97     60259\n",
            "     toastme       0.90      0.72      0.80      9762\n",
            "\n",
            "    accuracy                           0.95     70021\n",
            "   macro avg       0.93      0.85      0.88     70021\n",
            "weighted avg       0.95      0.95      0.95     70021\n",
            "\n"
          ]
        }
      ]
    },
    {
      "cell_type": "code",
      "source": [
        "# Train and evaluate models using Count Vectorization\n",
        "print(\"Count Vectorization Results....\")\n",
        "for model_name, model in models.items():\n",
        "    model.fit(X_train_count, y_train)\n",
        "    y_pred = model.predict(X_test_count)\n",
        "    print(f\"{model_name}:\\n\", classification_report(y_test, y_pred))\n"
      ],
      "metadata": {
        "colab": {
          "base_uri": "https://localhost:8080/"
        },
        "id": "s6rsYTaeX5fB",
        "outputId": "e31bbb2b-e863-4152-a599-d5cfa5217c1a"
      },
      "execution_count": 24,
      "outputs": [
        {
          "output_type": "stream",
          "name": "stdout",
          "text": [
            "Count Vectorization Results....\n",
            "Logistic Regression:\n",
            "               precision    recall  f1-score   support\n",
            "\n",
            "     RoastMe       0.96      0.99      0.97     60259\n",
            "     toastme       0.91      0.72      0.80      9762\n",
            "\n",
            "    accuracy                           0.95     70021\n",
            "   macro avg       0.93      0.85      0.89     70021\n",
            "weighted avg       0.95      0.95      0.95     70021\n",
            "\n",
            "Naive Bayes:\n",
            "               precision    recall  f1-score   support\n",
            "\n",
            "     RoastMe       0.96      0.97      0.96     60259\n",
            "     toastme       0.79      0.75      0.77      9762\n",
            "\n",
            "    accuracy                           0.94     70021\n",
            "   macro avg       0.88      0.86      0.87     70021\n",
            "weighted avg       0.94      0.94      0.94     70021\n",
            "\n",
            "Decision Tree:\n",
            "               precision    recall  f1-score   support\n",
            "\n",
            "     RoastMe       0.95      0.95      0.95     60259\n",
            "     toastme       0.70      0.68      0.69      9762\n",
            "\n",
            "    accuracy                           0.91     70021\n",
            "   macro avg       0.82      0.82      0.82     70021\n",
            "weighted avg       0.91      0.91      0.91     70021\n",
            "\n",
            "SVM:\n",
            "               precision    recall  f1-score   support\n",
            "\n",
            "     RoastMe       0.95      0.99      0.97     60259\n",
            "     toastme       0.92      0.71      0.80      9762\n",
            "\n",
            "    accuracy                           0.95     70021\n",
            "   macro avg       0.93      0.85      0.89     70021\n",
            "weighted avg       0.95      0.95      0.95     70021\n",
            "\n"
          ]
        }
      ]
    },
    {
      "cell_type": "code",
      "source": [
        "# Train and evaluate models using GloVe/Word2Vec embeddings\n",
        "print(\"GloVe Embedding Results...\")\n",
        "for model_name, model in models.items():\n",
        "    model.fit(X_train_glove_scaled, y_train)\n",
        "    y_pred = model.predict(X_test_glove_scaled)\n",
        "    print(f\"{model_name}:\\n\", classification_report(y_test, y_pred, zero_division=1))"
      ],
      "metadata": {
        "colab": {
          "base_uri": "https://localhost:8080/"
        },
        "id": "KkECQCeSX5cZ",
        "outputId": "95430ad9-3442-4739-e49b-f3299d32379a"
      },
      "execution_count": null,
      "outputs": [
        {
          "output_type": "stream",
          "name": "stdout",
          "text": [
            "GloVe Embedding Results...\n",
            "Logistic Regression:\n",
            "               precision    recall  f1-score   support\n",
            "\n",
            "     RoastMe       0.88      0.98      0.93     60259\n",
            "     toastme       0.57      0.16      0.25      9762\n",
            "\n",
            "    accuracy                           0.87     70021\n",
            "   macro avg       0.72      0.57      0.59     70021\n",
            "weighted avg       0.83      0.87      0.83     70021\n",
            "\n",
            "Naive Bayes:\n",
            "               precision    recall  f1-score   support\n",
            "\n",
            "     RoastMe       0.86      1.00      0.93     60259\n",
            "     toastme       1.00      0.00      0.00      9762\n",
            "\n",
            "    accuracy                           0.86     70021\n",
            "   macro avg       0.93      0.50      0.46     70021\n",
            "weighted avg       0.88      0.86      0.80     70021\n",
            "\n",
            "Decision Tree:\n",
            "               precision    recall  f1-score   support\n",
            "\n",
            "     RoastMe       0.92      0.91      0.91     60259\n",
            "     toastme       0.47      0.48      0.48      9762\n",
            "\n",
            "    accuracy                           0.85     70021\n",
            "   macro avg       0.69      0.70      0.69     70021\n",
            "weighted avg       0.85      0.85      0.85     70021\n",
            "\n"
          ]
        }
      ]
    },
    {
      "cell_type": "code",
      "source": [],
      "metadata": {
        "id": "JmbsQIGbX5Zi"
      },
      "execution_count": null,
      "outputs": []
    },
    {
      "cell_type": "code",
      "source": [],
      "metadata": {
        "id": "iKY-AS4vU2c1"
      },
      "execution_count": null,
      "outputs": []
    }
  ]
}